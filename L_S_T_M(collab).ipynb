{
  "cells": [
    {
      "cell_type": "code",
      "execution_count": 2,
      "metadata": {
        "id": "24zNBlpnYO_q"
      },
      "outputs": [],
      "source": [
        "import numpy as np\n",
        "import matplotlib.pyplot as plt"
      ]
    },
    {
      "cell_type": "code",
      "execution_count": 19,
      "metadata": {
        "colab": {
          "base_uri": "https://localhost:8080/",
          "height": 255
        },
        "id": "66-2fWK9YO_r",
        "outputId": "0634de8e-af3f-49d5-9ce3-3c59aee3fb04"
      },
      "outputs": [
        {
          "name": "stdout",
          "output_type": "stream",
          "text": [
            "[*********************100%***********************]  1 of 1 completed\n"
          ]
        }
      ],
      "source": [
        "import pandas\n",
        "from pandas_datareader import data as pdr\n",
        "import yfinance as yfin\n",
        "\n",
        "yfin.pdr_override()\n",
        "\n",
        "data1=pdr.get_data_yahoo('CIPLA.NS',start='2017-04-03',end='2023-01-18')\n",
        "\n"
      ]
    },
    {
      "cell_type": "code",
      "execution_count": 20,
      "metadata": {
        "colab": {
          "base_uri": "https://localhost:8080/",
          "height": 424
        },
        "id": "jMG7qF2HYO_s",
        "outputId": "74beb98c-793f-434e-bb4e-75d0641a3c09"
      },
      "outputs": [
        {
          "data": {
            "text/html": [
              "<div>\n",
              "<style scoped>\n",
              "    .dataframe tbody tr th:only-of-type {\n",
              "        vertical-align: middle;\n",
              "    }\n",
              "\n",
              "    .dataframe tbody tr th {\n",
              "        vertical-align: top;\n",
              "    }\n",
              "\n",
              "    .dataframe thead th {\n",
              "        text-align: right;\n",
              "    }\n",
              "</style>\n",
              "<table border=\"1\" class=\"dataframe\">\n",
              "  <thead>\n",
              "    <tr style=\"text-align: right;\">\n",
              "      <th></th>\n",
              "      <th>Date</th>\n",
              "      <th>Open</th>\n",
              "      <th>High</th>\n",
              "      <th>Low</th>\n",
              "      <th>Close</th>\n",
              "      <th>Adj Close</th>\n",
              "      <th>Volume</th>\n",
              "    </tr>\n",
              "  </thead>\n",
              "  <tbody>\n",
              "    <tr>\n",
              "      <th>1429</th>\n",
              "      <td>2023-01-11</td>\n",
              "      <td>1078.699951</td>\n",
              "      <td>1083.949951</td>\n",
              "      <td>1043.000000</td>\n",
              "      <td>1047.599976</td>\n",
              "      <td>1047.599976</td>\n",
              "      <td>2168577</td>\n",
              "    </tr>\n",
              "    <tr>\n",
              "      <th>1430</th>\n",
              "      <td>2023-01-12</td>\n",
              "      <td>1052.800049</td>\n",
              "      <td>1064.099976</td>\n",
              "      <td>1043.150024</td>\n",
              "      <td>1061.150024</td>\n",
              "      <td>1061.150024</td>\n",
              "      <td>1188988</td>\n",
              "    </tr>\n",
              "    <tr>\n",
              "      <th>1431</th>\n",
              "      <td>2023-01-13</td>\n",
              "      <td>1064.000000</td>\n",
              "      <td>1070.599976</td>\n",
              "      <td>1053.250000</td>\n",
              "      <td>1067.750000</td>\n",
              "      <td>1067.750000</td>\n",
              "      <td>1089004</td>\n",
              "    </tr>\n",
              "    <tr>\n",
              "      <th>1432</th>\n",
              "      <td>2023-01-16</td>\n",
              "      <td>1070.500000</td>\n",
              "      <td>1074.699951</td>\n",
              "      <td>1051.000000</td>\n",
              "      <td>1059.599976</td>\n",
              "      <td>1059.599976</td>\n",
              "      <td>825308</td>\n",
              "    </tr>\n",
              "    <tr>\n",
              "      <th>1433</th>\n",
              "      <td>2023-01-17</td>\n",
              "      <td>1062.800049</td>\n",
              "      <td>1071.099976</td>\n",
              "      <td>1053.349976</td>\n",
              "      <td>1069.099976</td>\n",
              "      <td>1069.099976</td>\n",
              "      <td>762916</td>\n",
              "    </tr>\n",
              "  </tbody>\n",
              "</table>\n",
              "</div>"
            ],
            "text/plain": [
              "           Date         Open         High          Low        Close  \\\n",
              "1429 2023-01-11  1078.699951  1083.949951  1043.000000  1047.599976   \n",
              "1430 2023-01-12  1052.800049  1064.099976  1043.150024  1061.150024   \n",
              "1431 2023-01-13  1064.000000  1070.599976  1053.250000  1067.750000   \n",
              "1432 2023-01-16  1070.500000  1074.699951  1051.000000  1059.599976   \n",
              "1433 2023-01-17  1062.800049  1071.099976  1053.349976  1069.099976   \n",
              "\n",
              "        Adj Close   Volume  \n",
              "1429  1047.599976  2168577  \n",
              "1430  1061.150024  1188988  \n",
              "1431  1067.750000  1089004  \n",
              "1432  1059.599976   825308  \n",
              "1433  1069.099976   762916  "
            ]
          },
          "execution_count": 20,
          "metadata": {},
          "output_type": "execute_result"
        }
      ],
      "source": [
        "data1=data1.reset_index()\n",
        "data1.tail()"
      ]
    },
    {
      "cell_type": "code",
      "execution_count": 12,
      "metadata": {},
      "outputs": [
        {
          "data": {
            "text/html": [
              "<div>\n",
              "<style scoped>\n",
              "    .dataframe tbody tr th:only-of-type {\n",
              "        vertical-align: middle;\n",
              "    }\n",
              "\n",
              "    .dataframe tbody tr th {\n",
              "        vertical-align: top;\n",
              "    }\n",
              "\n",
              "    .dataframe thead th {\n",
              "        text-align: right;\n",
              "    }\n",
              "</style>\n",
              "<table border=\"1\" class=\"dataframe\">\n",
              "  <thead>\n",
              "    <tr style=\"text-align: right;\">\n",
              "      <th></th>\n",
              "      <th>Date</th>\n",
              "      <th>Open</th>\n",
              "      <th>High</th>\n",
              "      <th>Low</th>\n",
              "      <th>Close</th>\n",
              "      <th>Adj Close</th>\n",
              "      <th>Volume</th>\n",
              "    </tr>\n",
              "  </thead>\n",
              "  <tbody>\n",
              "    <tr>\n",
              "      <th>1413</th>\n",
              "      <td>2022-12-20</td>\n",
              "      <td>1096.000000</td>\n",
              "      <td>1097.400024</td>\n",
              "      <td>1088.449951</td>\n",
              "      <td>1091.150024</td>\n",
              "      <td>1091.150024</td>\n",
              "      <td>795748</td>\n",
              "    </tr>\n",
              "    <tr>\n",
              "      <th>1414</th>\n",
              "      <td>2022-12-21</td>\n",
              "      <td>1096.099976</td>\n",
              "      <td>1130.000000</td>\n",
              "      <td>1085.650024</td>\n",
              "      <td>1128.000000</td>\n",
              "      <td>1128.000000</td>\n",
              "      <td>3224730</td>\n",
              "    </tr>\n",
              "    <tr>\n",
              "      <th>1415</th>\n",
              "      <td>2022-12-22</td>\n",
              "      <td>1135.000000</td>\n",
              "      <td>1147.349976</td>\n",
              "      <td>1117.050049</td>\n",
              "      <td>1122.449951</td>\n",
              "      <td>1122.449951</td>\n",
              "      <td>2070809</td>\n",
              "    </tr>\n",
              "    <tr>\n",
              "      <th>1416</th>\n",
              "      <td>2022-12-23</td>\n",
              "      <td>1121.000000</td>\n",
              "      <td>1146.949951</td>\n",
              "      <td>1113.199951</td>\n",
              "      <td>1119.150024</td>\n",
              "      <td>1119.150024</td>\n",
              "      <td>2773210</td>\n",
              "    </tr>\n",
              "    <tr>\n",
              "      <th>1417</th>\n",
              "      <td>2022-12-26</td>\n",
              "      <td>1127.000000</td>\n",
              "      <td>1135.000000</td>\n",
              "      <td>1094.000000</td>\n",
              "      <td>1096.500000</td>\n",
              "      <td>1096.500000</td>\n",
              "      <td>1279529</td>\n",
              "    </tr>\n",
              "    <tr>\n",
              "      <th>1418</th>\n",
              "      <td>2022-12-27</td>\n",
              "      <td>1094.050049</td>\n",
              "      <td>1104.900024</td>\n",
              "      <td>1090.099976</td>\n",
              "      <td>1095.849976</td>\n",
              "      <td>1095.849976</td>\n",
              "      <td>1209316</td>\n",
              "    </tr>\n",
              "    <tr>\n",
              "      <th>1419</th>\n",
              "      <td>2022-12-28</td>\n",
              "      <td>1094.000000</td>\n",
              "      <td>1103.150024</td>\n",
              "      <td>1084.099976</td>\n",
              "      <td>1085.800049</td>\n",
              "      <td>1085.800049</td>\n",
              "      <td>872940</td>\n",
              "    </tr>\n",
              "    <tr>\n",
              "      <th>1420</th>\n",
              "      <td>2022-12-29</td>\n",
              "      <td>1086.000000</td>\n",
              "      <td>1098.000000</td>\n",
              "      <td>1070.000000</td>\n",
              "      <td>1087.550049</td>\n",
              "      <td>1087.550049</td>\n",
              "      <td>1625961</td>\n",
              "    </tr>\n",
              "    <tr>\n",
              "      <th>1421</th>\n",
              "      <td>2022-12-30</td>\n",
              "      <td>1094.949951</td>\n",
              "      <td>1095.000000</td>\n",
              "      <td>1073.500000</td>\n",
              "      <td>1075.949951</td>\n",
              "      <td>1075.949951</td>\n",
              "      <td>1185711</td>\n",
              "    </tr>\n",
              "    <tr>\n",
              "      <th>1422</th>\n",
              "      <td>2023-01-02</td>\n",
              "      <td>1080.250000</td>\n",
              "      <td>1082.000000</td>\n",
              "      <td>1063.849976</td>\n",
              "      <td>1070.949951</td>\n",
              "      <td>1070.949951</td>\n",
              "      <td>895053</td>\n",
              "    </tr>\n",
              "    <tr>\n",
              "      <th>1423</th>\n",
              "      <td>2023-01-03</td>\n",
              "      <td>1070.050049</td>\n",
              "      <td>1080.949951</td>\n",
              "      <td>1066.400024</td>\n",
              "      <td>1075.900024</td>\n",
              "      <td>1075.900024</td>\n",
              "      <td>952230</td>\n",
              "    </tr>\n",
              "    <tr>\n",
              "      <th>1424</th>\n",
              "      <td>2023-01-04</td>\n",
              "      <td>1078.949951</td>\n",
              "      <td>1081.949951</td>\n",
              "      <td>1063.949951</td>\n",
              "      <td>1066.900024</td>\n",
              "      <td>1066.900024</td>\n",
              "      <td>1369415</td>\n",
              "    </tr>\n",
              "    <tr>\n",
              "      <th>1425</th>\n",
              "      <td>2023-01-05</td>\n",
              "      <td>1075.000000</td>\n",
              "      <td>1093.199951</td>\n",
              "      <td>1067.400024</td>\n",
              "      <td>1088.349976</td>\n",
              "      <td>1088.349976</td>\n",
              "      <td>1605744</td>\n",
              "    </tr>\n",
              "    <tr>\n",
              "      <th>1426</th>\n",
              "      <td>2023-01-06</td>\n",
              "      <td>1088.349976</td>\n",
              "      <td>1093.099976</td>\n",
              "      <td>1073.500000</td>\n",
              "      <td>1076.349976</td>\n",
              "      <td>1076.349976</td>\n",
              "      <td>824772</td>\n",
              "    </tr>\n",
              "    <tr>\n",
              "      <th>1427</th>\n",
              "      <td>2023-01-09</td>\n",
              "      <td>1081.750000</td>\n",
              "      <td>1096.949951</td>\n",
              "      <td>1076.900024</td>\n",
              "      <td>1087.449951</td>\n",
              "      <td>1087.449951</td>\n",
              "      <td>893437</td>\n",
              "    </tr>\n",
              "    <tr>\n",
              "      <th>1428</th>\n",
              "      <td>2023-01-10</td>\n",
              "      <td>1086.500000</td>\n",
              "      <td>1090.250000</td>\n",
              "      <td>1074.849976</td>\n",
              "      <td>1078.699951</td>\n",
              "      <td>1078.699951</td>\n",
              "      <td>594426</td>\n",
              "    </tr>\n",
              "    <tr>\n",
              "      <th>1429</th>\n",
              "      <td>2023-01-11</td>\n",
              "      <td>1078.699951</td>\n",
              "      <td>1083.949951</td>\n",
              "      <td>1043.000000</td>\n",
              "      <td>1047.599976</td>\n",
              "      <td>1047.599976</td>\n",
              "      <td>2168577</td>\n",
              "    </tr>\n",
              "    <tr>\n",
              "      <th>1430</th>\n",
              "      <td>2023-01-12</td>\n",
              "      <td>1052.800049</td>\n",
              "      <td>1064.099976</td>\n",
              "      <td>1043.150024</td>\n",
              "      <td>1061.150024</td>\n",
              "      <td>1061.150024</td>\n",
              "      <td>1188988</td>\n",
              "    </tr>\n",
              "    <tr>\n",
              "      <th>1431</th>\n",
              "      <td>2023-01-13</td>\n",
              "      <td>1064.000000</td>\n",
              "      <td>1070.599976</td>\n",
              "      <td>1053.250000</td>\n",
              "      <td>1067.750000</td>\n",
              "      <td>1067.750000</td>\n",
              "      <td>1089004</td>\n",
              "    </tr>\n",
              "    <tr>\n",
              "      <th>1432</th>\n",
              "      <td>2023-01-16</td>\n",
              "      <td>1070.500000</td>\n",
              "      <td>1074.699951</td>\n",
              "      <td>1051.000000</td>\n",
              "      <td>1059.599976</td>\n",
              "      <td>1059.599976</td>\n",
              "      <td>825308</td>\n",
              "    </tr>\n",
              "  </tbody>\n",
              "</table>\n",
              "</div>"
            ],
            "text/plain": [
              "           Date         Open         High          Low        Close  \\\n",
              "1413 2022-12-20  1096.000000  1097.400024  1088.449951  1091.150024   \n",
              "1414 2022-12-21  1096.099976  1130.000000  1085.650024  1128.000000   \n",
              "1415 2022-12-22  1135.000000  1147.349976  1117.050049  1122.449951   \n",
              "1416 2022-12-23  1121.000000  1146.949951  1113.199951  1119.150024   \n",
              "1417 2022-12-26  1127.000000  1135.000000  1094.000000  1096.500000   \n",
              "1418 2022-12-27  1094.050049  1104.900024  1090.099976  1095.849976   \n",
              "1419 2022-12-28  1094.000000  1103.150024  1084.099976  1085.800049   \n",
              "1420 2022-12-29  1086.000000  1098.000000  1070.000000  1087.550049   \n",
              "1421 2022-12-30  1094.949951  1095.000000  1073.500000  1075.949951   \n",
              "1422 2023-01-02  1080.250000  1082.000000  1063.849976  1070.949951   \n",
              "1423 2023-01-03  1070.050049  1080.949951  1066.400024  1075.900024   \n",
              "1424 2023-01-04  1078.949951  1081.949951  1063.949951  1066.900024   \n",
              "1425 2023-01-05  1075.000000  1093.199951  1067.400024  1088.349976   \n",
              "1426 2023-01-06  1088.349976  1093.099976  1073.500000  1076.349976   \n",
              "1427 2023-01-09  1081.750000  1096.949951  1076.900024  1087.449951   \n",
              "1428 2023-01-10  1086.500000  1090.250000  1074.849976  1078.699951   \n",
              "1429 2023-01-11  1078.699951  1083.949951  1043.000000  1047.599976   \n",
              "1430 2023-01-12  1052.800049  1064.099976  1043.150024  1061.150024   \n",
              "1431 2023-01-13  1064.000000  1070.599976  1053.250000  1067.750000   \n",
              "1432 2023-01-16  1070.500000  1074.699951  1051.000000  1059.599976   \n",
              "\n",
              "        Adj Close   Volume  \n",
              "1413  1091.150024   795748  \n",
              "1414  1128.000000  3224730  \n",
              "1415  1122.449951  2070809  \n",
              "1416  1119.150024  2773210  \n",
              "1417  1096.500000  1279529  \n",
              "1418  1095.849976  1209316  \n",
              "1419  1085.800049   872940  \n",
              "1420  1087.550049  1625961  \n",
              "1421  1075.949951  1185711  \n",
              "1422  1070.949951   895053  \n",
              "1423  1075.900024   952230  \n",
              "1424  1066.900024  1369415  \n",
              "1425  1088.349976  1605744  \n",
              "1426  1076.349976   824772  \n",
              "1427  1087.449951   893437  \n",
              "1428  1078.699951   594426  \n",
              "1429  1047.599976  2168577  \n",
              "1430  1061.150024  1188988  \n",
              "1431  1067.750000  1089004  \n",
              "1432  1059.599976   825308  "
            ]
          },
          "execution_count": 12,
          "metadata": {},
          "output_type": "execute_result"
        }
      ],
      "source": [
        "data1.tail(20)"
      ]
    },
    {
      "cell_type": "code",
      "execution_count": 13,
      "metadata": {
        "colab": {
          "base_uri": "https://localhost:8080/",
          "height": 206
        },
        "id": "rBU9EYtZYO_t",
        "outputId": "12e7e88c-ff53-4692-d702-6a0ee4bae44b"
      },
      "outputs": [],
      "source": [
        "data1=data1.drop(['Date','Adj Close'],axis=1)"
      ]
    },
    {
      "cell_type": "code",
      "execution_count": 14,
      "metadata": {},
      "outputs": [],
      "source": [
        "import pandas as pd\n",
        "data=pd.DataFrame(data1[\"Close\"][0:1419]) # here we take first 1419 values (2017 - 2022 dec end)\n",
        "validation_data=pd.DataFrame(data1['Close'][1419:]) # here we are taking next 7 values of the dataset(2023 start - 12 days)"
      ]
    },
    {
      "cell_type": "code",
      "execution_count": 15,
      "metadata": {},
      "outputs": [
        {
          "data": {
            "text/html": [
              "<div>\n",
              "<style scoped>\n",
              "    .dataframe tbody tr th:only-of-type {\n",
              "        vertical-align: middle;\n",
              "    }\n",
              "\n",
              "    .dataframe tbody tr th {\n",
              "        vertical-align: top;\n",
              "    }\n",
              "\n",
              "    .dataframe thead th {\n",
              "        text-align: right;\n",
              "    }\n",
              "</style>\n",
              "<table border=\"1\" class=\"dataframe\">\n",
              "  <thead>\n",
              "    <tr style=\"text-align: right;\">\n",
              "      <th></th>\n",
              "      <th>Close</th>\n",
              "    </tr>\n",
              "  </thead>\n",
              "  <tbody>\n",
              "    <tr>\n",
              "      <th>1419</th>\n",
              "      <td>1085.800049</td>\n",
              "    </tr>\n",
              "    <tr>\n",
              "      <th>1420</th>\n",
              "      <td>1087.550049</td>\n",
              "    </tr>\n",
              "    <tr>\n",
              "      <th>1421</th>\n",
              "      <td>1075.949951</td>\n",
              "    </tr>\n",
              "    <tr>\n",
              "      <th>1422</th>\n",
              "      <td>1070.949951</td>\n",
              "    </tr>\n",
              "    <tr>\n",
              "      <th>1423</th>\n",
              "      <td>1075.900024</td>\n",
              "    </tr>\n",
              "    <tr>\n",
              "      <th>1424</th>\n",
              "      <td>1066.900024</td>\n",
              "    </tr>\n",
              "    <tr>\n",
              "      <th>1425</th>\n",
              "      <td>1088.349976</td>\n",
              "    </tr>\n",
              "    <tr>\n",
              "      <th>1426</th>\n",
              "      <td>1076.349976</td>\n",
              "    </tr>\n",
              "    <tr>\n",
              "      <th>1427</th>\n",
              "      <td>1087.449951</td>\n",
              "    </tr>\n",
              "    <tr>\n",
              "      <th>1428</th>\n",
              "      <td>1078.699951</td>\n",
              "    </tr>\n",
              "    <tr>\n",
              "      <th>1429</th>\n",
              "      <td>1047.599976</td>\n",
              "    </tr>\n",
              "    <tr>\n",
              "      <th>1430</th>\n",
              "      <td>1061.150024</td>\n",
              "    </tr>\n",
              "    <tr>\n",
              "      <th>1431</th>\n",
              "      <td>1067.750000</td>\n",
              "    </tr>\n",
              "    <tr>\n",
              "      <th>1432</th>\n",
              "      <td>1059.599976</td>\n",
              "    </tr>\n",
              "  </tbody>\n",
              "</table>\n",
              "</div>"
            ],
            "text/plain": [
              "            Close\n",
              "1419  1085.800049\n",
              "1420  1087.550049\n",
              "1421  1075.949951\n",
              "1422  1070.949951\n",
              "1423  1075.900024\n",
              "1424  1066.900024\n",
              "1425  1088.349976\n",
              "1426  1076.349976\n",
              "1427  1087.449951\n",
              "1428  1078.699951\n",
              "1429  1047.599976\n",
              "1430  1061.150024\n",
              "1431  1067.750000\n",
              "1432  1059.599976"
            ]
          },
          "execution_count": 15,
          "metadata": {},
          "output_type": "execute_result"
        }
      ],
      "source": [
        "validation_data"
      ]
    },
    {
      "cell_type": "code",
      "execution_count": 7,
      "metadata": {
        "id": "s7UDtdeNYO_t"
      },
      "outputs": [],
      "source": [
        "import pandas as pd\n",
        "data_training=pd.DataFrame(data[\"Close\"][0:int(len(data)*0.80)])\n",
        "data_test=pd.DataFrame(data['Close'][int(len(data)*0.80):int(len(data))])"
      ]
    },
    {
      "cell_type": "code",
      "execution_count": 8,
      "metadata": {
        "id": "UjySiU-wYO_t"
      },
      "outputs": [],
      "source": [
        "from sklearn.preprocessing import MinMaxScaler\n",
        "scaler=MinMaxScaler(feature_range=(0,1))"
      ]
    },
    {
      "cell_type": "code",
      "execution_count": 219,
      "metadata": {
        "colab": {
          "base_uri": "https://localhost:8080/"
        },
        "id": "bVcOxrBUYO_t",
        "outputId": "2df25a19-1ef7-462d-cdef-e29d97abe547"
      },
      "outputs": [
        {
          "data": {
            "text/plain": [
              "array([[0.35560454],\n",
              "       [0.35625712],\n",
              "       [0.35177025],\n",
              "       ...,\n",
              "       [0.8626204 ],\n",
              "       [0.87771259],\n",
              "       [0.87453097]])"
            ]
          },
          "execution_count": 219,
          "metadata": {},
          "output_type": "execute_result"
        }
      ],
      "source": [
        "data_training_array=scaler.fit_transform(data_training)\n",
        "data_training_array"
      ]
    },
    {
      "cell_type": "code",
      "execution_count": 220,
      "metadata": {
        "colab": {
          "base_uri": "https://localhost:8080/"
        },
        "id": "x_OQRz1VYO_t",
        "outputId": "09b38106-c889-443f-b898-a30a95815f50"
      },
      "outputs": [
        {
          "data": {
            "text/plain": [
              "(1135, 1)"
            ]
          },
          "execution_count": 220,
          "metadata": {},
          "output_type": "execute_result"
        }
      ],
      "source": [
        "data_training_array.shape"
      ]
    },
    {
      "cell_type": "code",
      "execution_count": 221,
      "metadata": {
        "id": "Y2II4KE-YO_u"
      },
      "outputs": [],
      "source": [
        "x_train=[]\n",
        "y_train=[]\n",
        "\n",
        "for i in range(100,data_training_array.shape[0]):\n",
        "        x_train.append(data_training_array[i-100:i])\n",
        "        y_train.append(data_training_array[i,0])\n",
        "x_train,y_train=np.array(x_train),np.array(y_train)"
      ]
    },
    {
      "cell_type": "code",
      "execution_count": 222,
      "metadata": {
        "id": "EuoTq7RXYO_u"
      },
      "outputs": [],
      "source": [
        "from keras.layers import Dense,Dropout,LSTM\n",
        "from keras.models import Sequential"
      ]
    },
    {
      "cell_type": "code",
      "execution_count": 223,
      "metadata": {
        "id": "BVrzxYhOYO_u"
      },
      "outputs": [],
      "source": [
        "model=Sequential()\n",
        "model.add(LSTM(units=40,activation='relu',return_sequences=True,input_shape=(x_train.shape[1],1)))\n",
        "model.add(Dropout(0.2))\n",
        "\n",
        "model.add(LSTM(units=50,activation='relu'))\n",
        "model.add(Dropout(0.3))\n",
        "\n",
        "model.add(Dense(units=25))\n",
        "model.add(Dense(units=1))"
      ]
    },
    {
      "cell_type": "code",
      "execution_count": 224,
      "metadata": {
        "colab": {
          "base_uri": "https://localhost:8080/"
        },
        "id": "UwryLkLNYO_u",
        "outputId": "d9e50d8a-4f73-4491-c268-0da9ff54237b"
      },
      "outputs": [
        {
          "name": "stdout",
          "output_type": "stream",
          "text": [
            "Model: \"sequential_7\"\n",
            "_________________________________________________________________\n",
            " Layer (type)                Output Shape              Param #   \n",
            "=================================================================\n",
            " lstm_14 (LSTM)              (None, 100, 40)           6720      \n",
            "                                                                 \n",
            " dropout_14 (Dropout)        (None, 100, 40)           0         \n",
            "                                                                 \n",
            " lstm_15 (LSTM)              (None, 50)                18200     \n",
            "                                                                 \n",
            " dropout_15 (Dropout)        (None, 50)                0         \n",
            "                                                                 \n",
            " dense_14 (Dense)            (None, 25)                1275      \n",
            "                                                                 \n",
            " dense_15 (Dense)            (None, 1)                 26        \n",
            "                                                                 \n",
            "=================================================================\n",
            "Total params: 26,221\n",
            "Trainable params: 26,221\n",
            "Non-trainable params: 0\n",
            "_________________________________________________________________\n"
          ]
        }
      ],
      "source": [
        "model.summary()"
      ]
    },
    {
      "cell_type": "code",
      "execution_count": 225,
      "metadata": {},
      "outputs": [],
      "source": [
        "model.compile( optimizer='adam',loss='mean_squared_error')"
      ]
    },
    {
      "cell_type": "code",
      "execution_count": 226,
      "metadata": {
        "colab": {
          "base_uri": "https://localhost:8080/"
        },
        "id": "2Gx8LYqBYO_u",
        "outputId": "1587f52e-f459-4da6-f090-c7b2c7864871"
      },
      "outputs": [
        {
          "name": "stdout",
          "output_type": "stream",
          "text": [
            "Epoch 1/100\n",
            "26/26 [==============================] - 5s 78ms/step - loss: 0.0431 - val_loss: 0.1007\n",
            "Epoch 2/100\n",
            "26/26 [==============================] - 2s 64ms/step - loss: 0.0104 - val_loss: 0.0238\n",
            "Epoch 3/100\n",
            "26/26 [==============================] - 2s 63ms/step - loss: 0.0055 - val_loss: 0.0367\n",
            "Epoch 4/100\n",
            "26/26 [==============================] - 2s 63ms/step - loss: 0.0039 - val_loss: 0.0314\n",
            "Epoch 5/100\n",
            "26/26 [==============================] - 2s 62ms/step - loss: 0.0036 - val_loss: 0.0312\n",
            "Epoch 6/100\n",
            "26/26 [==============================] - 2s 66ms/step - loss: 0.0032 - val_loss: 0.0061\n",
            "Epoch 7/100\n",
            "26/26 [==============================] - 2s 64ms/step - loss: 0.0031 - val_loss: 0.0050\n",
            "Epoch 8/100\n",
            "26/26 [==============================] - 2s 68ms/step - loss: 0.0030 - val_loss: 0.0072\n",
            "Epoch 9/100\n",
            "26/26 [==============================] - 2s 65ms/step - loss: 0.0030 - val_loss: 0.0030\n",
            "Epoch 10/100\n",
            "26/26 [==============================] - 2s 68ms/step - loss: 0.0026 - val_loss: 0.0027\n",
            "Epoch 11/100\n",
            "26/26 [==============================] - 2s 70ms/step - loss: 0.0028 - val_loss: 0.0027\n",
            "Epoch 12/100\n",
            "26/26 [==============================] - 2s 66ms/step - loss: 0.0023 - val_loss: 0.0084\n",
            "Epoch 13/100\n",
            "26/26 [==============================] - 2s 64ms/step - loss: 0.0024 - val_loss: 0.0088\n",
            "Epoch 14/100\n",
            "26/26 [==============================] - 2s 67ms/step - loss: 0.0026 - val_loss: 0.0035\n",
            "Epoch 15/100\n",
            "26/26 [==============================] - 2s 67ms/step - loss: 0.0025 - val_loss: 0.0034\n",
            "Epoch 16/100\n",
            "26/26 [==============================] - 2s 66ms/step - loss: 0.0024 - val_loss: 0.0023\n",
            "Epoch 17/100\n",
            "26/26 [==============================] - 2s 68ms/step - loss: 0.0023 - val_loss: 0.0055\n",
            "Epoch 18/100\n",
            "26/26 [==============================] - 2s 66ms/step - loss: 0.0024 - val_loss: 0.0023\n",
            "Epoch 19/100\n",
            "26/26 [==============================] - 2s 76ms/step - loss: 0.0024 - val_loss: 0.0030\n",
            "Epoch 20/100\n",
            "26/26 [==============================] - 2s 67ms/step - loss: 0.0022 - val_loss: 0.0024\n",
            "Epoch 21/100\n",
            "26/26 [==============================] - 2s 69ms/step - loss: 0.0020 - val_loss: 0.0021\n",
            "Epoch 22/100\n",
            "26/26 [==============================] - 2s 81ms/step - loss: 0.0020 - val_loss: 0.0020\n",
            "Epoch 23/100\n",
            "26/26 [==============================] - 2s 81ms/step - loss: 0.0019 - val_loss: 0.0019\n",
            "Epoch 24/100\n",
            "26/26 [==============================] - 2s 81ms/step - loss: 0.0019 - val_loss: 0.0020\n",
            "Epoch 25/100\n",
            "26/26 [==============================] - 2s 81ms/step - loss: 0.0020 - val_loss: 0.0019\n",
            "Epoch 26/100\n",
            "26/26 [==============================] - 2s 81ms/step - loss: 0.0021 - val_loss: 0.0026\n",
            "Epoch 27/100\n",
            "26/26 [==============================] - 2s 83ms/step - loss: 0.0018 - val_loss: 0.0020\n",
            "Epoch 28/100\n",
            "26/26 [==============================] - 2s 81ms/step - loss: 0.0019 - val_loss: 0.0038\n",
            "Epoch 29/100\n",
            "26/26 [==============================] - 2s 79ms/step - loss: 0.0017 - val_loss: 0.0037\n",
            "Epoch 30/100\n",
            "26/26 [==============================] - 2s 79ms/step - loss: 0.0019 - val_loss: 0.0031\n",
            "Epoch 31/100\n",
            "26/26 [==============================] - 2s 80ms/step - loss: 0.0018 - val_loss: 0.0024\n",
            "Epoch 32/100\n",
            "26/26 [==============================] - 2s 79ms/step - loss: 0.0018 - val_loss: 0.0020\n",
            "Epoch 33/100\n",
            "26/26 [==============================] - 2s 79ms/step - loss: 0.0016 - val_loss: 0.0017\n",
            "Epoch 34/100\n",
            "26/26 [==============================] - 2s 80ms/step - loss: 0.0018 - val_loss: 0.0017\n",
            "Epoch 35/100\n",
            "26/26 [==============================] - 2s 80ms/step - loss: 0.0017 - val_loss: 0.0023\n",
            "Epoch 36/100\n",
            "26/26 [==============================] - 2s 86ms/step - loss: 0.0019 - val_loss: 0.0018\n",
            "Epoch 37/100\n",
            "26/26 [==============================] - 2s 82ms/step - loss: 0.0019 - val_loss: 0.0026\n",
            "Epoch 38/100\n",
            "26/26 [==============================] - 2s 81ms/step - loss: 0.0019 - val_loss: 0.0034\n",
            "Epoch 39/100\n",
            "26/26 [==============================] - 2s 82ms/step - loss: 0.0019 - val_loss: 0.0019\n",
            "Epoch 40/100\n",
            "26/26 [==============================] - 2s 82ms/step - loss: 0.0016 - val_loss: 0.0015\n",
            "Epoch 41/100\n",
            "26/26 [==============================] - 2s 80ms/step - loss: 0.0019 - val_loss: 0.0016\n",
            "Epoch 42/100\n",
            "26/26 [==============================] - 2s 81ms/step - loss: 0.0016 - val_loss: 0.0016\n",
            "Epoch 43/100\n",
            "26/26 [==============================] - 2s 83ms/step - loss: 0.0016 - val_loss: 0.0017\n",
            "Epoch 44/100\n",
            "26/26 [==============================] - 2s 91ms/step - loss: 0.0018 - val_loss: 0.0014\n",
            "Epoch 45/100\n",
            "26/26 [==============================] - 2s 82ms/step - loss: 0.0017 - val_loss: 0.0015\n",
            "Epoch 46/100\n",
            "26/26 [==============================] - 2s 82ms/step - loss: 0.0016 - val_loss: 0.0014\n",
            "Epoch 47/100\n",
            "26/26 [==============================] - 2s 82ms/step - loss: 0.0016 - val_loss: 0.0014\n",
            "Epoch 48/100\n",
            "26/26 [==============================] - 2s 83ms/step - loss: 0.0015 - val_loss: 0.0014\n",
            "Epoch 49/100\n",
            "26/26 [==============================] - 2s 82ms/step - loss: 0.0016 - val_loss: 0.0015\n",
            "Epoch 50/100\n",
            "26/26 [==============================] - 2s 82ms/step - loss: 0.0016 - val_loss: 0.0016\n",
            "Epoch 51/100\n",
            "26/26 [==============================] - 2s 81ms/step - loss: 0.0017 - val_loss: 0.0019\n",
            "Epoch 52/100\n",
            "26/26 [==============================] - 2s 83ms/step - loss: 0.0018 - val_loss: 0.0016\n",
            "Epoch 53/100\n",
            "26/26 [==============================] - 2s 83ms/step - loss: 0.0016 - val_loss: 0.0015\n",
            "Epoch 54/100\n",
            "26/26 [==============================] - 2s 81ms/step - loss: 0.0019 - val_loss: 0.0023\n",
            "Epoch 55/100\n",
            "26/26 [==============================] - 2s 82ms/step - loss: 0.0016 - val_loss: 0.0020\n",
            "Epoch 56/100\n",
            "26/26 [==============================] - 2s 82ms/step - loss: 0.0017 - val_loss: 0.0013\n",
            "Epoch 57/100\n",
            "26/26 [==============================] - 2s 86ms/step - loss: 0.0017 - val_loss: 0.0013\n",
            "Epoch 58/100\n",
            "26/26 [==============================] - 2s 83ms/step - loss: 0.0016 - val_loss: 0.0013\n",
            "Epoch 59/100\n",
            "26/26 [==============================] - 2s 82ms/step - loss: 0.0016 - val_loss: 0.0013\n",
            "Epoch 60/100\n",
            "26/26 [==============================] - 2s 82ms/step - loss: 0.0015 - val_loss: 0.0012\n",
            "Epoch 61/100\n",
            "26/26 [==============================] - 2s 83ms/step - loss: 0.0016 - val_loss: 0.0022\n",
            "Epoch 62/100\n",
            "26/26 [==============================] - 2s 85ms/step - loss: 0.0015 - val_loss: 0.0015\n",
            "Epoch 63/100\n",
            "26/26 [==============================] - 2s 86ms/step - loss: 0.0016 - val_loss: 0.0016\n",
            "Epoch 64/100\n",
            "26/26 [==============================] - 2s 84ms/step - loss: 0.0014 - val_loss: 0.0012\n",
            "Epoch 65/100\n",
            "26/26 [==============================] - 2s 78ms/step - loss: 0.0014 - val_loss: 0.0012\n",
            "Epoch 66/100\n",
            "26/26 [==============================] - 2s 63ms/step - loss: 0.0016 - val_loss: 0.0012\n",
            "Epoch 67/100\n",
            "26/26 [==============================] - 2s 64ms/step - loss: 0.0014 - val_loss: 0.0012\n",
            "Epoch 68/100\n",
            "26/26 [==============================] - 2s 67ms/step - loss: 0.0015 - val_loss: 0.0020\n",
            "Epoch 69/100\n",
            "26/26 [==============================] - 2s 61ms/step - loss: 0.0014 - val_loss: 0.0013\n",
            "Epoch 70/100\n",
            "26/26 [==============================] - 2s 62ms/step - loss: 0.0012 - val_loss: 0.0011\n",
            "Epoch 71/100\n",
            "26/26 [==============================] - 2s 61ms/step - loss: 0.0013 - val_loss: 0.0015\n",
            "Epoch 72/100\n",
            "26/26 [==============================] - 2s 61ms/step - loss: 0.0017 - val_loss: 0.0011\n",
            "Epoch 73/100\n",
            "26/26 [==============================] - 2s 61ms/step - loss: 0.0015 - val_loss: 0.0013\n",
            "Epoch 74/100\n",
            "26/26 [==============================] - 2s 61ms/step - loss: 0.0014 - val_loss: 0.0012\n",
            "Epoch 75/100\n",
            "26/26 [==============================] - 2s 61ms/step - loss: 0.0014 - val_loss: 0.0012\n",
            "Epoch 76/100\n",
            "26/26 [==============================] - 2s 62ms/step - loss: 0.0015 - val_loss: 0.0014\n",
            "Epoch 77/100\n",
            "26/26 [==============================] - 2s 67ms/step - loss: 0.0014 - val_loss: 0.0013\n",
            "Epoch 78/100\n",
            "26/26 [==============================] - 2s 73ms/step - loss: 0.0014 - val_loss: 0.0012\n",
            "Epoch 79/100\n",
            "26/26 [==============================] - 2s 61ms/step - loss: 0.0013 - val_loss: 0.0017\n",
            "Epoch 80/100\n",
            "26/26 [==============================] - 2s 61ms/step - loss: 0.0013 - val_loss: 0.0011\n",
            "Epoch 81/100\n",
            "26/26 [==============================] - 2s 61ms/step - loss: 0.0013 - val_loss: 0.0011\n",
            "Epoch 82/100\n",
            "26/26 [==============================] - 2s 60ms/step - loss: 0.0015 - val_loss: 0.0011\n",
            "Epoch 83/100\n",
            "26/26 [==============================] - 2s 60ms/step - loss: 0.0012 - val_loss: 0.0012\n",
            "Epoch 84/100\n",
            "26/26 [==============================] - 2s 60ms/step - loss: 0.0013 - val_loss: 0.0011\n",
            "Epoch 85/100\n",
            "26/26 [==============================] - 2s 60ms/step - loss: 0.0012 - val_loss: 0.0010\n",
            "Epoch 86/100\n",
            "26/26 [==============================] - 2s 60ms/step - loss: 0.0013 - val_loss: 0.0013\n",
            "Epoch 87/100\n",
            "26/26 [==============================] - 2s 60ms/step - loss: 0.0013 - val_loss: 0.0010\n",
            "Epoch 88/100\n",
            "26/26 [==============================] - 2s 61ms/step - loss: 0.0014 - val_loss: 0.0036\n",
            "Epoch 89/100\n",
            "26/26 [==============================] - 2s 60ms/step - loss: 0.0013 - val_loss: 0.0013\n",
            "Epoch 90/100\n",
            "26/26 [==============================] - 2s 60ms/step - loss: 0.0015 - val_loss: 0.0015\n",
            "Epoch 91/100\n",
            "26/26 [==============================] - 2s 62ms/step - loss: 0.0014 - val_loss: 0.0014\n",
            "Epoch 92/100\n",
            "26/26 [==============================] - 2s 63ms/step - loss: 0.0013 - val_loss: 0.0015\n",
            "Epoch 93/100\n",
            "26/26 [==============================] - 2s 61ms/step - loss: 0.0014 - val_loss: 9.4979e-04\n",
            "Epoch 94/100\n",
            "26/26 [==============================] - 2s 60ms/step - loss: 0.0014 - val_loss: 0.0010\n",
            "Epoch 95/100\n",
            "26/26 [==============================] - 2s 60ms/step - loss: 0.0013 - val_loss: 0.0011\n",
            "Epoch 96/100\n",
            "26/26 [==============================] - 2s 61ms/step - loss: 0.0013 - val_loss: 0.0013\n",
            "Epoch 97/100\n",
            "26/26 [==============================] - 2s 60ms/step - loss: 0.0016 - val_loss: 0.0011\n",
            "Epoch 98/100\n",
            "26/26 [==============================] - 2s 60ms/step - loss: 0.0014 - val_loss: 0.0011\n",
            "Epoch 99/100\n",
            "26/26 [==============================] - 2s 62ms/step - loss: 0.0014 - val_loss: 0.0011\n",
            "Epoch 100/100\n",
            "26/26 [==============================] - 2s 60ms/step - loss: 0.0013 - val_loss: 0.0012\n"
          ]
        },
        {
          "data": {
            "text/plain": [
              "<keras.callbacks.History at 0x1f0394fa860>"
            ]
          },
          "execution_count": 226,
          "metadata": {},
          "output_type": "execute_result"
        }
      ],
      "source": [
        "\n",
        "model.fit(x_train,y_train,epochs=100,validation_split=0.2)"
      ]
    },
    {
      "cell_type": "code",
      "execution_count": 227,
      "metadata": {
        "id": "XOKNRuX8YO_v"
      },
      "outputs": [],
      "source": [
        "model.save('LSTM.h5')"
      ]
    },
    {
      "cell_type": "code",
      "execution_count": 228,
      "metadata": {
        "id": "sY0zcpohYO_v"
      },
      "outputs": [
        {
          "name": "stderr",
          "output_type": "stream",
          "text": [
            "C:\\Users\\chakr\\AppData\\Local\\Temp\\ipykernel_9628\\60233251.py:2: FutureWarning: The frame.append method is deprecated and will be removed from pandas in a future version. Use pandas.concat instead.\n",
            "  final_df=past_100_days.append(data_test,ignore_index=True)\n"
          ]
        }
      ],
      "source": [
        "past_100_days=data_training.tail(100)\n",
        "final_df=past_100_days.append(data_test,ignore_index=True)"
      ]
    },
    {
      "cell_type": "code",
      "execution_count": 229,
      "metadata": {
        "id": "_yM5zeWJYO_v"
      },
      "outputs": [],
      "source": [
        "input_data=scaler.fit_transform(final_df)"
      ]
    },
    {
      "cell_type": "code",
      "execution_count": 230,
      "metadata": {
        "id": "t4ivkN7TYO_v"
      },
      "outputs": [],
      "source": [
        "x_test=[]\n",
        "y_test=[]\n",
        "\n",
        "for i in range(100,input_data.shape[0]):\n",
        "        x_test.append(input_data[i-100:i])\n",
        "        y_test.append(input_data[i,0])\n",
        "x_test,y_test=np.array(x_test),np.array(y_test)"
      ]
    },
    {
      "cell_type": "code",
      "execution_count": 231,
      "metadata": {
        "colab": {
          "base_uri": "https://localhost:8080/"
        },
        "id": "doII1QZVYO_v",
        "outputId": "91af5856-4d73-4047-f33a-ccdc459aa22b"
      },
      "outputs": [
        {
          "name": "stdout",
          "output_type": "stream",
          "text": [
            "9/9 [==============================] - 0s 21ms/step\n"
          ]
        }
      ],
      "source": [
        "y_predicted=model.predict(x_test)"
      ]
    },
    {
      "cell_type": "code",
      "execution_count": 232,
      "metadata": {
        "id": "CGZda-_XYO_w"
      },
      "outputs": [],
      "source": [
        "scale_factor=1/0.00319285\n",
        "y_predicted=y_predicted*scale_factor\n",
        "y_test=y_test*scale_factor"
      ]
    },
    {
      "cell_type": "code",
      "execution_count": 233,
      "metadata": {
        "colab": {
          "base_uri": "https://localhost:8080/",
          "height": 388
        },
        "id": "pDBwLXEHYO_w",
        "outputId": "d2a83b41-14bc-4458-b049-f6d29669a2bb"
      },
      "outputs": [
        {
          "data": {
            "image/png": "[encoded data removed]",
            "text/plain": [
              "<Figure size 1200x600 with 1 Axes>"
            ]
          },
          "metadata": {},
          "output_type": "display_data"
        }
      ],
      "source": [
        "plt.figure(figsize=(12,6))\n",
        "plt.plot(y_test,'b',label='original price')\n",
        "plt.plot(y_predicted,'r',label='Predicted Price')\n",
        "plt.xlabel('Time')\n",
        "plt.ylabel('Price')\n",
        "plt.legend()\n",
        "plt.show()"
      ]
    },
    {
      "cell_type": "code",
      "execution_count": 234,
      "metadata": {
        "colab": {
          "base_uri": "https://localhost:8080/"
        },
        "id": "cbL_J8jCYO_w",
        "outputId": "531b2444-b415-46d0-d282-a483685b19ec"
      },
      "outputs": [
        {
          "name": "stdout",
          "output_type": "stream",
          "text": [
            "Mean absolute error : 16.800633561237593\n",
            "Root Mean squared error : 21.786448999586383\n"
          ]
        }
      ],
      "source": [
        "from sklearn.metrics import mean_absolute_error as mae\n",
        "from sklearn.metrics import mean_squared_error as mse\n",
        "\n",
        "  \n",
        "# calculate MAE\n",
        "error1 = mae(y_test, y_predicted)\n",
        "error2=mse(y_test,y_predicted)\n",
        "error3=np.sqrt(error2)\n",
        "\n",
        "  \n",
        "# display\n",
        "print(\"Mean absolute error : \" + str(error1))\n",
        "print(\"Root Mean squared error : \" + str(error3))"
      ]
    },
    {
      "cell_type": "code",
      "execution_count": 241,
      "metadata": {
        "colab": {
          "base_uri": "https://localhost:8080/"
        },
        "id": "pDYMgj1YvINs",
        "outputId": "f80a0fc6-cb8f-4a9c-d944-6b768ae18177"
      },
      "outputs": [
        {
          "name": "stdout",
          "output_type": "stream",
          "text": [
            "1/1 [==============================] - 0s 25ms/step\n",
            "[1076.3201]\n",
            "1/1 [==============================] - 0s 22ms/step\n",
            "[1072.9802]\n",
            "1/1 [==============================] - 0s 23ms/step\n",
            "[1072.5614]\n",
            "1/1 [==============================] - 0s 22ms/step\n",
            "[1072.4622]\n",
            "1/1 [==============================] - 0s 20ms/step\n",
            "[1072.4374]\n",
            "1/1 [==============================] - 0s 22ms/step\n",
            "[1072.4313]\n"
          ]
        }
      ],
      "source": [
        "last_7_days=validation_data.head(7).values\n",
        "\n",
        "import numpy as np\n",
        "from sklearn.preprocessing import MinMaxScaler\n",
        "scaler=MinMaxScaler(feature_range=(0,1))\n",
        "\n",
        "last_7_days_scaled=scaler.fit_transform(last_7_days)\n",
        "list1=[]\n",
        "pred_list=[]\n",
        "list1.append(last_7_days_scaled)\n",
        "for i in range(6):\n",
        "  list1=np.array(list1)\n",
        "  list1=np.reshape(list1,(list1.shape[0],list1.shape[1],1))\n",
        "  pred_price=model.predict(list1)\n",
        "  \n",
        "  # Reshaping the data again for inserting in the list.\n",
        "  list1=np.reshape(1,1)\n",
        "  list1=list(list1)\n",
        "  list1.append(pred_price)\n",
        "\n",
        "  pred_price=scaler.inverse_transform(pred_price)\n",
        "  pred_price=pred_price.flatten()\n",
        "\n",
        "  pred_list.append(pred_price[0])\n",
        "  list1.pop(0)\n",
        "  print(pred_price)"
      ]
    },
    {
      "cell_type": "code",
      "execution_count": 242,
      "metadata": {},
      "outputs": [
        {
          "data": {
            "text/plain": [
              "[1076.3201, 1072.9802, 1072.5614, 1072.4622, 1072.4374, 1072.4313]"
            ]
          },
          "execution_count": 242,
          "metadata": {},
          "output_type": "execute_result"
        }
      ],
      "source": [
        "pred_list"
      ]
    },
    {
      "cell_type": "code",
      "execution_count": 243,
      "metadata": {},
      "outputs": [
        {
          "data": {
            "text/html": [
              "<div>\n",
              "<style scoped>\n",
              "    .dataframe tbody tr th:only-of-type {\n",
              "        vertical-align: middle;\n",
              "    }\n",
              "\n",
              "    .dataframe tbody tr th {\n",
              "        vertical-align: top;\n",
              "    }\n",
              "\n",
              "    .dataframe thead th {\n",
              "        text-align: right;\n",
              "    }\n",
              "</style>\n",
              "<table border=\"1\" class=\"dataframe\">\n",
              "  <thead>\n",
              "    <tr style=\"text-align: right;\">\n",
              "      <th></th>\n",
              "      <th>ACtual</th>\n",
              "      <th>Validation</th>\n",
              "    </tr>\n",
              "  </thead>\n",
              "  <tbody>\n",
              "    <tr>\n",
              "      <th>1426</th>\n",
              "      <td>1076.349976</td>\n",
              "      <td>1076.320068</td>\n",
              "    </tr>\n",
              "    <tr>\n",
              "      <th>1427</th>\n",
              "      <td>1087.449951</td>\n",
              "      <td>1072.980225</td>\n",
              "    </tr>\n",
              "    <tr>\n",
              "      <th>1428</th>\n",
              "      <td>1078.699951</td>\n",
              "      <td>1072.561401</td>\n",
              "    </tr>\n",
              "    <tr>\n",
              "      <th>1429</th>\n",
              "      <td>1047.599976</td>\n",
              "      <td>1072.462158</td>\n",
              "    </tr>\n",
              "    <tr>\n",
              "      <th>1430</th>\n",
              "      <td>1061.150024</td>\n",
              "      <td>1072.437378</td>\n",
              "    </tr>\n",
              "    <tr>\n",
              "      <th>1431</th>\n",
              "      <td>1067.750000</td>\n",
              "      <td>1072.431274</td>\n",
              "    </tr>\n",
              "  </tbody>\n",
              "</table>\n",
              "</div>"
            ],
            "text/plain": [
              "           ACtual   Validation\n",
              "1426  1076.349976  1076.320068\n",
              "1427  1087.449951  1072.980225\n",
              "1428  1078.699951  1072.561401\n",
              "1429  1047.599976  1072.462158\n",
              "1430  1061.150024  1072.437378\n",
              "1431  1067.750000  1072.431274"
            ]
          },
          "execution_count": 243,
          "metadata": {},
          "output_type": "execute_result"
        }
      ],
      "source": [
        "import pandas as pd\n",
        "  \n",
        "\n",
        "valid = {'ACtual': data1[\"Close\"][1426:],\n",
        "        'Validation': pred_list}\n",
        "  \n",
        "# Create DataFrame\n",
        "valid1 = pd.DataFrame(valid)\n",
        "  \n",
        "# Print the output.\n",
        "valid1"
      ]
    },
    {
      "cell_type": "code",
      "execution_count": 244,
      "metadata": {},
      "outputs": [
        {
          "data": {
            "image/png": "[encoded data removed]",
            "text/plain": [
              "<Figure size 1200x600 with 1 Axes>"
            ]
          },
          "metadata": {},
          "output_type": "display_data"
        }
      ],
      "source": [
        "plt.figure(figsize=(12,6))\n",
        "plt.plot(valid1[\"ACtual\"],'b',label='original price')\n",
        "plt.plot(valid1[\"Validation\"],'r',label='Predicted Price')\n",
        "plt.xlabel('Time')\n",
        "plt.ylabel('Price')\n",
        "plt.legend()\n",
        "plt.show()"
      ]
    }
  ],
  "metadata": {
    "colab": {
      "provenance": []
    },
    "kernelspec": {
      "display_name": "Python 3",
      "language": "python",
      "name": "python3"
    },
    "language_info": {
      "codemirror_mode": {
        "name": "ipython",
        "version": 3
      },
      "file_extension": ".py",
      "mimetype": "text/x-python",
      "name": "python",
      "nbconvert_exporter": "python",
      "pygments_lexer": "ipython3",
      "version": "3.10.9 (tags/v3.10.9:1dd9be6, Dec  6 2022, 20:01:21) [MSC v.1934 64 bit (AMD64)]"
    },
    "orig_nbformat": 4,
    "vscode": {
      "interpreter": {
        "hash": "05e9873f914e61cda02c6b18bf9772868b8e594a37aa5e8973f23340faa536b0"
      }
    }
  },
  "nbformat": 4,
  "nbformat_minor": 0
}
